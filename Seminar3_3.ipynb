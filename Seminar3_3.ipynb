{
 "cells": [
  {
   "cell_type": "markdown",
   "metadata": {},
   "source": [
    "№3.3\n",
    "\n",
    "- Создайте датафрейм с клиентами:\n",
    "\n",
    "clients = pd.DataFrame({\n",
    "\n",
    "'client_id': [45, 32, 67, 33, 43],\n",
    "\n",
    "'laptop_id': [506, 398, 710, 120, 1999]\n",
    "\n",
    "})\n",
    "\n",
    "laptop_id - это индексы датафрейма с ноутбуками\n",
    "\n",
    "- Присоедините к таблице clients данные по ноутбукам через метод join\n",
    "\n",
    "- Присоедините к таблице clients данные по ноутбукам через метод merge. Это нужно, чтобы понимать, какие ноутбуки покупались клиентами"
   ]
  },
  {
   "cell_type": "code",
   "execution_count": 1,
   "metadata": {},
   "outputs": [],
   "source": [
    "import pandas as pd"
   ]
  },
  {
   "cell_type": "code",
   "execution_count": 2,
   "metadata": {},
   "outputs": [],
   "source": [
    "clients = pd.DataFrame({'client_id': [45, 32, 67, 33, 43],\n",
    "'laptop_id': [506, 398, 710, 120, 1999]})"
   ]
  },
  {
   "cell_type": "code",
   "execution_count": 3,
   "metadata": {},
   "outputs": [
    {
     "ename": "NameError",
     "evalue": "name 'df' is not defined",
     "output_type": "error",
     "traceback": [
      "\u001b[1;31m---------------------------------------------------------------------------\u001b[0m",
      "\u001b[1;31mNameError\u001b[0m                                 Traceback (most recent call last)",
      "Cell \u001b[1;32mIn[3], line 1\u001b[0m\n\u001b[1;32m----> 1\u001b[0m df\u001b[39m.\u001b[39mhead()\n",
      "\u001b[1;31mNameError\u001b[0m: name 'df' is not defined"
     ]
    }
   ],
   "source": [
    "df.head()"
   ]
  }
 ],
 "metadata": {
  "kernelspec": {
   "display_name": "Python 3",
   "language": "python",
   "name": "python3"
  },
  "language_info": {
   "codemirror_mode": {
    "name": "ipython",
    "version": 3
   },
   "file_extension": ".py",
   "mimetype": "text/x-python",
   "name": "python",
   "nbconvert_exporter": "python",
   "pygments_lexer": "ipython3",
   "version": "3.11.3"
  },
  "orig_nbformat": 4
 },
 "nbformat": 4,
 "nbformat_minor": 2
}
