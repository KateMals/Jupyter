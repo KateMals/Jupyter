{
 "cells": [
  {
   "cell_type": "code",
   "execution_count": null,
   "metadata": {},
   "outputs": [],
   "source": [
    "import matplotlib.pyplot as plt\n",
    "import seaborn as sns"
   ]
  },
  {
   "cell_type": "markdown",
   "metadata": {},
   "source": [
    "№4.1. \"laptops-prices\"\n",
    "\n",
    "- Скачать данные по ссылке https://drive.google.com/file/d/1MpAdHAl727fO3oW32NO4FpSRhUBUfjfS\n",
    "\n",
    "- Считать данные с помощью pandas\n",
    "\n",
    "- Вывести на экран первые 5 строк\n",
    "\n",
    "1.1 Изучите количество памяти с помощью matplotlib\n",
    "\n",
    "1.2 Изучите стоимость ноутбуков с помощью matplotlib\n",
    "\n",
    "1.3 Изучите вес ноутбуков с помощью matplotlib\n",
    "\n",
    "Для всех пунктов:\n",
    "\n",
    "- Постройте график\n",
    "\n",
    "- Назовите график\n",
    "\n",
    "- Сделайте именование оси x и оси y\n",
    "\n",
    "- Сделайте выводы"
   ]
  },
  {
   "cell_type": "code",
   "execution_count": null,
   "metadata": {},
   "outputs": [],
   "source": [
    "import pandas as pd"
   ]
  },
  {
   "cell_type": "code",
   "execution_count": null,
   "metadata": {},
   "outputs": [],
   "source": [
    "df = pd.read_csv('laptops_10.csv', encoding='cp1251')\n",
    "df.head()"
   ]
  },
  {
   "cell_type": "code",
   "execution_count": null,
   "metadata": {},
   "outputs": [],
   "source": [
    "plt.figure()\n",
    "plt.hist(df['Memory_Amount'], bins=30)\n",
    "plt.xlabel('Объем памяти')\n",
    "plt.ylabel('Кол-во ноутбуков')\n",
    "plt.title('Распределение памяти')\n",
    "\n",
    "#plt.grid()"
   ]
  },
  {
   "cell_type": "code",
   "execution_count": null,
   "metadata": {},
   "outputs": [],
   "source": [
    "plt.figure()\n",
    "plt.hist(df['Price_euros'], bins=50)\n",
    "plt.xlabel('Стоимость ноутбуков')\n",
    "plt.ylabel('Кол-во ноутбуков')\n",
    "plt.title('Распределение стоимости')"
   ]
  },
  {
   "cell_type": "code",
   "execution_count": null,
   "metadata": {},
   "outputs": [],
   "source": [
    "plt.figure()\n",
    "plt.boxplot(df['Price_euros'])\n",
    "plt.ylabel('Кол-во ноутбуков')\n",
    "plt.title('Распределение стоимости')"
   ]
  },
  {
   "cell_type": "code",
   "execution_count": null,
   "metadata": {},
   "outputs": [],
   "source": [
    "plt.figure()\n",
    "plt.hist(df['Weight'], bins=50)\n",
    "plt.xlabel('Вес')\n",
    "plt.ylabel('Кол-во ноутбуков')\n",
    "plt.title('Распределение веса')"
   ]
  },
  {
   "cell_type": "code",
   "execution_count": null,
   "metadata": {},
   "outputs": [],
   "source": [
    "sns.histplot(data = df, x = 'Weight', hue ='TypeName')"
   ]
  },
  {
   "cell_type": "markdown",
   "metadata": {},
   "source": [
    "№4.2. \"laptops-prices\"\n",
    "\n",
    "2.1 Изучите распределение типов носителя\n",
    "\n",
    "2.2 Изучите распределение компаний производителей\n",
    "\n",
    "2.3 Изучите распределение операционной системы\n",
    "\n",
    "2.4 Изучите распределение компаний производителей CPU\n",
    "\n",
    "- Постройте график\n",
    "\n",
    "- Сделайте выводы"
   ]
  },
  {
   "cell_type": "code",
   "execution_count": null,
   "metadata": {},
   "outputs": [],
   "source": [
    "df['Memory_Type'].describe()"
   ]
  },
  {
   "cell_type": "code",
   "execution_count": null,
   "metadata": {},
   "outputs": [],
   "source": [
    "plt.figure(figsize=(8, 6))\n",
    "plt.plot([0, 1, 2, 3], [10, 9, 6, 1])\n",
    "plt.xlabel('x')\n",
    "plt.ylabel('y')\n",
    "plt.title('Example')\n",
    "plt.grid();"
   ]
  },
  {
   "cell_type": "code",
   "execution_count": null,
   "metadata": {},
   "outputs": [],
   "source": [
    "plt.figure()\n",
    "plt.pie(data.values, labels = data.index, autopct='%.1f%%')\n",
    "plt.show()"
   ]
  },
  {
   "cell_type": "code",
   "execution_count": null,
   "metadata": {},
   "outputs": [],
   "source": [
    "comp = df['Company'].value_counts()"
   ]
  },
  {
   "cell_type": "code",
   "execution_count": null,
   "metadata": {},
   "outputs": [],
   "source": [
    "plt.figure()\n",
    "plt.pie(comp.values, labels = comp.index, autopct='%.1f%%')\n",
    "plt.show()"
   ]
  },
  {
   "cell_type": "code",
   "execution_count": null,
   "metadata": {},
   "outputs": [],
   "source": [
    "df['Company'].value_counts()"
   ]
  },
  {
   "cell_type": "code",
   "execution_count": null,
   "metadata": {},
   "outputs": [],
   "source": [
    "plt.figure()\n",
    "plt.bar(comp.index, comp.values)\n",
    "plt.ylabel('Компании')\n",
    "plt.ylabel('Кол-во ноутбуков')\n",
    "plt.title('Распределение компаний')\n",
    "plt.xticks(rotation = 80);"
   ]
  },
  {
   "cell_type": "code",
   "execution_count": null,
   "metadata": {},
   "outputs": [],
   "source": [
    "oper = df['OpSys'].value_counts()\n",
    "oper"
   ]
  },
  {
   "cell_type": "code",
   "execution_count": null,
   "metadata": {},
   "outputs": [],
   "source": [
    "plt.figure()\n",
    "plt.bar(oper.index, oper.values)\n",
    "plt.ylabel('ОП')\n",
    "plt.ylabel('Кол-во ноутбуков')\n",
    "plt.title('Распределение ОП')\n",
    "plt.xticks(rotation = 80);"
   ]
  },
  {
   "cell_type": "code",
   "execution_count": null,
   "metadata": {},
   "outputs": [],
   "source": [
    "plt.figure()\n",
    "plt.pie(oper.values, labels = oper.index, autopct='%.1f%%')\n",
    "plt.show()"
   ]
  },
  {
   "cell_type": "code",
   "execution_count": null,
   "metadata": {},
   "outputs": [],
   "source": [
    "OPSYS = df[df['OpSys'] != 'Windows 10']['OpSys'].value_counts()\n",
    "OPSYS"
   ]
  },
  {
   "cell_type": "code",
   "execution_count": null,
   "metadata": {},
   "outputs": [],
   "source": [
    "plt.figure()\n",
    "plt.pie(OPSYS.values, labels = OPSYS.index, autopct='%.1f%%')\n",
    "plt.show()"
   ]
  },
  {
   "cell_type": "markdown",
   "metadata": {},
   "source": [
    "№4.3. Изучите взаимосвязь компаний производителей ноутбуков и компаний производителей процессоров, используя сложенную или многорядовую столбчатую диаграмму\n",
    "\n",
    "Процессоры от Samsung не изучайте\n",
    "\n",
    "3.1 Постройте график в абсолютных величинах\n",
    "\n",
    "3.2 Постройте график в относительных величинах"
   ]
  },
  {
   "cell_type": "code",
   "execution_count": null,
   "metadata": {},
   "outputs": [],
   "source": [
    "dCorr = df.corr(numeric_only=True)\n",
    "dCorr = np.round(dCorr, 2)\n",
    "dCorr = np.abs(dCorr)\n",
    "dCorr"
   ]
  }
 ],
 "metadata": {
  "kernelspec": {
   "display_name": "Python 3",
   "language": "python",
   "name": "python3"
  },
  "language_info": {
   "codemirror_mode": {
    "name": "ipython",
    "version": 3
   },
   "file_extension": ".py",
   "mimetype": "text/x-python",
   "name": "python",
   "nbconvert_exporter": "python",
   "pygments_lexer": "ipython3",
   "version": "3.11.3"
  },
  "orig_nbformat": 4
 },
 "nbformat": 4,
 "nbformat_minor": 2
}
